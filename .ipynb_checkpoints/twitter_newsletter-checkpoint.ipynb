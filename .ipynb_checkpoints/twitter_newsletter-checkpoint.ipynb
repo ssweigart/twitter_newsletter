{
 "cells": [
  {
   "cell_type": "markdown",
   "metadata": {},
   "source": [
    "okay! Today we are going to make a twitter project"
   ]
  },
  {
   "cell_type": "code",
   "execution_count": 393,
   "metadata": {},
   "outputs": [],
   "source": [
    "#import relevent directories\n",
    "#TODO!\n",
    "# fix the twitter image\n",
    "# adjust line\n",
    "# adjust height of usernames\n",
    "# add link to box\n",
    "# set daily time\n",
    "# improve location finder"
   ]
  },
  {
   "cell_type": "code",
   "execution_count": 414,
   "metadata": {},
   "outputs": [],
   "source": [
    "#set up helpful stuff I'm using a python twitter API \n",
    "import tweepy\n",
    "import pandas as pd\n",
    "import datetime"
   ]
  },
  {
   "cell_type": "code",
   "execution_count": 496,
   "metadata": {},
   "outputs": [],
   "source": [
    "from states import StatesByCode, CodeByStates #import a python files that just has these two variables to make things clearer\n",
    "from ps import consumer_key, consumer_secret, access_token_secret, sender_email,receiver_email,password_email, access_token, user_name\n",
    "\n",
    "#sign into twitter\n",
    "auth = tweepy.OAuth1UserHandler(consumer_key, consumer_secret, access_token, access_token_secret)\n",
    "api2 = tweepy.API(auth)"
   ]
  },
  {
   "cell_type": "code",
   "execution_count": 504,
   "metadata": {},
   "outputs": [],
   "source": [
    "# change this if you want to adjust the number of topics or the number of tweets per day\n",
    "number_of_trends = 5\n",
    "number_of_tweets = 5\n",
    "preferred_location = '' # this needs to be City, State e.g. New York City, New York"
   ]
  },
  {
   "cell_type": "code",
   "execution_count": 498,
   "metadata": {},
   "outputs": [],
   "source": [
    "if preferred_location == '':\n",
    "    #start with getting the user information -> extract the location possible\n",
    "    user= api2.get_user(screen_name = user_name)\n",
    "    profile_location = user.location\n",
    "    [cityplus, state] = profile_location.split()\n",
    "    if len(state)> 2:\n",
    "        st_ab = CodeByStates[state]\n",
    "    else:\n",
    "        st_ab = state\n",
    "    city = cityplus.strip(',')\n",
    "    my_places = api2.search_geo(query = city)\n",
    "\n",
    "    #I happen to know davis, CA is the first one so I'm going to this short hand for now\n",
    "    preferred_location = my_places[0]\n",
    "    \n",
    "#certain places like small towns etc won't have an active trending area. So here we are going to find the closest WOEID that twitter cares about\n",
    "center = this_place.centroid\n",
    "closest = api2.closest_trends(center[1],center[0])\n",
    "closest_woeid = closest[0]['woeid']\n"
   ]
  },
  {
   "cell_type": "code",
   "execution_count": 515,
   "metadata": {},
   "outputs": [],
   "source": [
    "#here I actually get the trends for the location\n",
    "trends = api2.get_place_trends(id = closest_woeid)[0]['trends'][0:number_of_trends]\n",
    "\n",
    "all_tweets=[] #this is going to be what we actually care about in the end\n",
    "\n",
    "for trend in trends:\n",
    "    indv_trends = api2.search_tweets(trend['query']) #search for the tweets related to the trend\n",
    "    #I want to reorder the tweets based on how trending each tweet is\n",
    "    counts = [x.retweet_count + x.favorite_count for x in indv_trends]\n",
    "    order = []\n",
    "    for x in range(len(counts)):\n",
    "        loc = counts.index(max(counts))\n",
    "        order.append(loc)\n",
    "        counts[loc] = -1\n",
    "    indv_trends_reord = [indv_trends[x] for x in order]\n",
    "    #now extract the top 5 tweets \n",
    "    spec_tweets = getSpecTweets(indv_trends_reord, number_of_tweets)\n",
    "    #add the topic, tweets, and query url to all_tweets\n",
    "    all_tweets.append([trend['query'],spec_tweets,trend['url']])\n",
    "    \n"
   ]
  },
  {
   "cell_type": "code",
   "execution_count": 439,
   "metadata": {},
   "outputs": [],
   "source": [
    "\n",
    "#allbox is where we will put our entire message\n",
    "allbox = \"\"\" <html>\n",
    "<head>\n",
    "\n",
    "</head>\n",
    "\n",
    "   <body>\n",
    "   <div style=\"border-radius:15px;-webkit-border-radius:10px;-moz-border-radius:15px;width:525 px;padding-left:9px;padding-top:6px; \n",
    "                  padding-bottom:6px;margin:2px;\n",
    "               background-color:#EFFEFE ;margin-left:0;padding:10px;\">\n",
    "   <p style=\"color:3370AA;font-size:20.0pt;\">twitter topics<br>\n",
    "    <br> \"\"\"\n",
    "\n",
    "\n",
    "for trend in all_tweets:\n",
    "    #sometimes I see weird things in front of the trends or a + instead of space so I'm replacing them here and adding them to the message\n",
    "    if '%22' in trend[0]:\n",
    "        trend[0] = trend[0].replace('%22','')\n",
    "    if '%23' in trend[0]:\n",
    "        trend[0] = trend[0].replace('%23', '')\n",
    "    elif '+' in trend[0]:\n",
    "        trend[0] = trend[0].replace('+', ' ')\n",
    "    the_link = trend[2]\n",
    "    allbox += \"\"\" <a href= \"\"\" + the_link \n",
    "    allbox += \"\"\" > <span style=\"color:black;font-size:30.0pt;text-decoration:none\"> #\"\"\" + trend[0] + \"\"\" </span> </a> \"\"\"\n",
    "    #allbox += \"\"\" <span style=\"color:black;font-size:30.0pt\"> #\"\"\" + trend[0] + \"\"\" </span><br><br> \"\"\"\n",
    "    allbox += \"\"\" <hr width=\"50%\" size=\"5\" align=\"left\" color=\"7C94AA\" noshade> \"\"\"\n",
    "    \n",
    "    #this is going to loop and generate each box with the tweets using the addtweet function\n",
    "    for twetz in trend[1]: \n",
    "        profile_image = twetz.user.profile_image_url\n",
    "        tweet_body = twetz.text\n",
    "        the_user_name = twetz.user.screen_name\n",
    "        allbox = allbox +addtweet(profile_image, tweet_body, the_user_name)\n",
    "    allbox += \"\"\" <br> <br> \"\"\"\n",
    "\n",
    "allbox += \"\"\"     </div ></p> </body> </html> \"\"\"  "
   ]
  },
  {
   "cell_type": "code",
   "execution_count": 513,
   "metadata": {},
   "outputs": [],
   "source": [
    "sendemail(sender_email, receiver_email, password_email, allbox)"
   ]
  },
  {
   "cell_type": "code",
   "execution_count": 512,
   "metadata": {
    "jupyter": {
     "source_hidden": true
    }
   },
   "outputs": [],
   "source": [
    "def sendemail(sender_email, receiver_email, password, allbox):\n",
    "    #sendemail(string, string, string, string) -> nothing\n",
    "    # email address, email address, email password, text of the message\n",
    "    import smtplib, ssl\n",
    "    from email.mime.text import MIMEText\n",
    "    from email.mime.multipart import MIMEMultipart\n",
    "\n",
    "    message = MIMEMultipart(\"alternative\")\n",
    "    message[\"Subject\"] = \"Twitter Daily Update\"\n",
    "    message[\"From\"] = sender_email\n",
    "    message[\"To\"] = receiver_email\n",
    "\n",
    "\n",
    "    # Turn these into plain/html MIMEText objects\n",
    "    part = MIMEText(allbox, \"html\")\n",
    "\n",
    "    # Add HTML/plain-text parts to MIMEMultipart message\n",
    "    # The email client will try to render the last part first\n",
    "\n",
    "    message.attach(part)\n",
    "\n",
    "    # Create secure connection with server and send email\n",
    "    context = ssl.create_default_context()\n",
    "    with smtplib.SMTP_SSL(\"smtp.gmail.com\", 465, context=context) as server:\n",
    "        server.login(sender_email, password)\n",
    "        server.sendmail(\n",
    "            sender_email, receiver_email, message.as_string()\n",
    "        )"
   ]
  },
  {
   "cell_type": "code",
   "execution_count": 514,
   "metadata": {
    "jupyter": {
     "source_hidden": true
    }
   },
   "outputs": [],
   "source": [
    "def addtweet(profile_image, tweet_body, user_name):\n",
    "    #addtweet(string, string, string) -> string\n",
    "    #takes the location of the tweeters profile picture, the tweet, and the username and generates the tweet image to be added to the email\n",
    "    addtext = \"\"\" <div style=\"border-radius:15px;-webkit-border-radius:15px;-moz-border-radius:15px;width:500px;padding-left:9px;padding-top:6px; \n",
    "              padding-bottom:6px;margin:2px; background-color:#82cfd9;margin-left:0;padding:10px;\">\n",
    "\n",
    "               <div <a href= \"https://twitter.com/home\" style=\"border-radius:15px;-webkit-border-radius:10px;-moz-border-radius:15px;width:480px;padding-left:9px;padding-top:6px; \n",
    "                  padding-bottom:6px;margin:2px;\n",
    "               background-color:#ebfffe;margin-left:0;padding:10px;\">\n",
    "\n",
    "                  <img src=\"images/twitter_logo.png\" style=\"width:50px;height:50px;\" />\n",
    "                  <img src= \"\"\" + profile_image + \"\"\" style=\"width:50px;height:50px;\" />\n",
    "                   <span style=\"color:black;font-size:12.0pt\"> \"\"\" + '@' + user_name + \"\"\" <span>\n",
    "\n",
    "                    </a>\n",
    "                    <p> <span style=\"color:black;font-size:10.0pt\"> \"\"\" + tweet_body + \"\"\" </span> </p>\n",
    "              </div>\n",
    "          </div> \"\"\"\n",
    "    return addtext"
   ]
  },
  {
   "cell_type": "code",
   "execution_count": 508,
   "metadata": {
    "jupyter": {
     "source_hidden": true
    }
   },
   "outputs": [],
   "source": [
    "def getSpecTweets(each_trend, number_of_tweets):\n",
    "    #getSpecTweets[tweepy.models.SearchResults, int] -> list\n",
    "    #takes a given trend and number of tweets you want from that trend and returns a list that number of unique tweets\n",
    "    startingText = []\n",
    "    spec_trends = []\n",
    "    for tweet in each_trend:\n",
    "        tweet_text = tweet.text\n",
    "        #I want to make sure that the same tweet retweeted or a bot doesn't take up a ton of the tweets\n",
    "        if any(tweet_text[0:25]  in x  for x in startingText):\n",
    "            continue\n",
    "        else:\n",
    "            startingText.append(tweet_text)\n",
    "            spec_trends.append(tweet)\n",
    "        if len(spec_trends) == number_of_tweets:\n",
    "            break\n",
    "    return spec_trends"
   ]
  },
  {
   "cell_type": "code",
   "execution_count": null,
   "metadata": {},
   "outputs": [],
   "source": []
  },
  {
   "cell_type": "code",
   "execution_count": null,
   "metadata": {},
   "outputs": [],
   "source": []
  },
  {
   "cell_type": "code",
   "execution_count": null,
   "metadata": {},
   "outputs": [],
   "source": []
  },
  {
   "cell_type": "code",
   "execution_count": null,
   "metadata": {},
   "outputs": [],
   "source": []
  },
  {
   "cell_type": "code",
   "execution_count": null,
   "metadata": {},
   "outputs": [],
   "source": []
  },
  {
   "cell_type": "code",
   "execution_count": null,
   "metadata": {},
   "outputs": [],
   "source": []
  },
  {
   "cell_type": "code",
   "execution_count": null,
   "metadata": {},
   "outputs": [],
   "source": []
  },
  {
   "cell_type": "code",
   "execution_count": null,
   "metadata": {},
   "outputs": [],
   "source": []
  },
  {
   "cell_type": "code",
   "execution_count": null,
   "metadata": {},
   "outputs": [],
   "source": []
  },
  {
   "cell_type": "code",
   "execution_count": null,
   "metadata": {},
   "outputs": [],
   "source": []
  },
  {
   "cell_type": "code",
   "execution_count": null,
   "metadata": {},
   "outputs": [],
   "source": [
    "#okay lets get some regional information\n",
    "#lets load in this pdf I have of clean woeid data I got off https://www.woeids.com/index.html\n",
    "df = pd.read_csv('geo_clean.csv') #it is a really big csv (1,000,000+ rows!) so if you are only interested in the US you can instead use reduced_geo_clean.csv\n",
    "\n",
    "my_woeid_tab = df[(df.area == county) & (df.locality == city) & (df.country == 'US')]\n",
    "if l.shape[0] == 0:\n",
    "    print('wait! the location was not located. Try a different area or country')\n",
    "\n",
    "my_woeid = my_woeid_tab['woeid'].tolist()[0]\n",
    "print(my_)"
   ]
  }
 ],
 "metadata": {
  "kernelspec": {
   "display_name": "Python 3",
   "language": "python",
   "name": "python3"
  },
  "language_info": {
   "codemirror_mode": {
    "name": "ipython",
    "version": 3
   },
   "file_extension": ".py",
   "mimetype": "text/x-python",
   "name": "python",
   "nbconvert_exporter": "python",
   "pygments_lexer": "ipython3",
   "version": "3.8.3"
  }
 },
 "nbformat": 4,
 "nbformat_minor": 4
}
